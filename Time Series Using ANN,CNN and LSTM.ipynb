{
 "cells": [
  {
   "cell_type": "code",
   "execution_count": 1,
   "metadata": {
    "id": "LspltVTXeWkl"
   },
   "outputs": [],
   "source": [
    "#importing important libraries\n",
    "import pandas as pd\n",
    "import numpy as np\n",
    "import matplotlib.pyplot as plt\n",
    "import seaborn as sns\n",
    "import matplotlib.dates as dates\n",
    "from datetime import datetime\n",
    "from numpy import array\n",
    "from sklearn.preprocessing import MinMaxScaler\n",
    "import tensorflow as tf\n",
    "from tensorflow import keras\n",
    "from keras.models import Sequential\n",
    "from keras.layers import Dense\n",
    "from keras.layers import Flatten\n",
    "from keras.layers.convolutional import Conv1D\n",
    "from keras.layers.convolutional import MaxPooling1D\n",
    "import math"
   ]
  },
  {
   "cell_type": "code",
   "execution_count": 10,
   "metadata": {
    "colab": {
     "base_uri": "https://localhost:8080/",
     "height": 204
    },
    "id": "rqEXNnSJe7ME",
    "outputId": "3e0472f6-17b5-490c-a7ab-f46484871dab"
   },
   "outputs": [
    {
     "data": {
      "text/html": [
       "<div>\n",
       "<style scoped>\n",
       "    .dataframe tbody tr th:only-of-type {\n",
       "        vertical-align: middle;\n",
       "    }\n",
       "\n",
       "    .dataframe tbody tr th {\n",
       "        vertical-align: top;\n",
       "    }\n",
       "\n",
       "    .dataframe thead th {\n",
       "        text-align: right;\n",
       "    }\n",
       "</style>\n",
       "<table border=\"1\" class=\"dataframe\">\n",
       "  <thead>\n",
       "    <tr style=\"text-align: right;\">\n",
       "      <th></th>\n",
       "      <th>Month</th>\n",
       "      <th>#Passengers</th>\n",
       "    </tr>\n",
       "  </thead>\n",
       "  <tbody>\n",
       "    <tr>\n",
       "      <th>0</th>\n",
       "      <td>1949-01</td>\n",
       "      <td>112</td>\n",
       "    </tr>\n",
       "    <tr>\n",
       "      <th>1</th>\n",
       "      <td>1949-02</td>\n",
       "      <td>118</td>\n",
       "    </tr>\n",
       "    <tr>\n",
       "      <th>2</th>\n",
       "      <td>1949-03</td>\n",
       "      <td>132</td>\n",
       "    </tr>\n",
       "    <tr>\n",
       "      <th>3</th>\n",
       "      <td>1949-04</td>\n",
       "      <td>129</td>\n",
       "    </tr>\n",
       "    <tr>\n",
       "      <th>4</th>\n",
       "      <td>1949-05</td>\n",
       "      <td>121</td>\n",
       "    </tr>\n",
       "  </tbody>\n",
       "</table>\n",
       "</div>"
      ],
      "text/plain": [
       "     Month  #Passengers\n",
       "0  1949-01          112\n",
       "1  1949-02          118\n",
       "2  1949-03          132\n",
       "3  1949-04          129\n",
       "4  1949-05          121"
      ]
     },
     "execution_count": 10,
     "metadata": {
      "tags": []
     },
     "output_type": "execute_result"
    }
   ],
   "source": [
    "df=pd.read_csv('AirPassengers.csv')\n",
    "df.head()"
   ]
  },
  {
   "cell_type": "code",
   "execution_count": 11,
   "metadata": {
    "colab": {
     "base_uri": "https://localhost:8080/",
     "height": 235
    },
    "id": "IG1rkGZd91Sc",
    "outputId": "11c89a93-9f40-4318-bffe-9ef463f3dbf9"
   },
   "outputs": [
    {
     "data": {
      "text/html": [
       "<div>\n",
       "<style scoped>\n",
       "    .dataframe tbody tr th:only-of-type {\n",
       "        vertical-align: middle;\n",
       "    }\n",
       "\n",
       "    .dataframe tbody tr th {\n",
       "        vertical-align: top;\n",
       "    }\n",
       "\n",
       "    .dataframe thead th {\n",
       "        text-align: right;\n",
       "    }\n",
       "</style>\n",
       "<table border=\"1\" class=\"dataframe\">\n",
       "  <thead>\n",
       "    <tr style=\"text-align: right;\">\n",
       "      <th></th>\n",
       "      <th>#Passengers</th>\n",
       "    </tr>\n",
       "    <tr>\n",
       "      <th>Month</th>\n",
       "      <th></th>\n",
       "    </tr>\n",
       "  </thead>\n",
       "  <tbody>\n",
       "    <tr>\n",
       "      <th>1949-01-01</th>\n",
       "      <td>112</td>\n",
       "    </tr>\n",
       "    <tr>\n",
       "      <th>1949-02-01</th>\n",
       "      <td>118</td>\n",
       "    </tr>\n",
       "    <tr>\n",
       "      <th>1949-03-01</th>\n",
       "      <td>132</td>\n",
       "    </tr>\n",
       "    <tr>\n",
       "      <th>1949-04-01</th>\n",
       "      <td>129</td>\n",
       "    </tr>\n",
       "    <tr>\n",
       "      <th>1949-05-01</th>\n",
       "      <td>121</td>\n",
       "    </tr>\n",
       "  </tbody>\n",
       "</table>\n",
       "</div>"
      ],
      "text/plain": [
       "            #Passengers\n",
       "Month                  \n",
       "1949-01-01          112\n",
       "1949-02-01          118\n",
       "1949-03-01          132\n",
       "1949-04-01          129\n",
       "1949-05-01          121"
      ]
     },
     "execution_count": 11,
     "metadata": {
      "tags": []
     },
     "output_type": "execute_result"
    }
   ],
   "source": [
    "#Convert Month object into datetime\n",
    "df['Month'] = pd.to_datetime(df.Month)\n",
    "df = df.set_index(df.Month)\n",
    "df.drop('Month', axis = 1, inplace = True)\n",
    "df.head()"
   ]
  },
  {
   "cell_type": "code",
   "execution_count": 12,
   "metadata": {
    "colab": {
     "base_uri": "https://localhost:8080/"
    },
    "id": "MC1-jwR7e7JQ",
    "outputId": "9fa4f0d0-ed19-4a96-9b06-f357c8f041d2"
   },
   "outputs": [
    {
     "data": {
      "text/plain": [
       "Month\n",
       "1949-01-01    112\n",
       "1949-02-01    118\n",
       "1949-03-01    132\n",
       "1949-04-01    129\n",
       "1949-05-01    121\n",
       "Name: #Passengers, dtype: int64"
      ]
     },
     "execution_count": 12,
     "metadata": {
      "tags": []
     },
     "output_type": "execute_result"
    }
   ],
   "source": [
    "ts = df['#Passengers']\n",
    "ts.head()"
   ]
  },
  {
   "cell_type": "markdown",
   "metadata": {
    "id": "2usViZo3GsVm"
   },
   "source": [
    "# ANN"
   ]
  },
  {
   "cell_type": "code",
   "execution_count": 13,
   "metadata": {
    "id": "JTcivrSG0_c5"
   },
   "outputs": [],
   "source": [
    "#Applying min max scaler for better fitting\n",
    "scaler= MinMaxScaler()\n",
    "ts=np.array(ts).reshape(-1,1)\n",
    "ts=scaler.fit_transform(ts)\n",
    "train_size=int(0.7*len(ts))\n",
    "test_size=len(ts)-train_size\n",
    "train=ts[0:train_size,:]\n",
    "test=ts[train_size:,:]"
   ]
  },
  {
   "cell_type": "code",
   "execution_count": 14,
   "metadata": {
    "id": "PhWz8aXG1hb3"
   },
   "outputs": [],
   "source": [
    "#Function to create dataset\n",
    "def get_data(data, look_back):\n",
    "    dataX, dataY = [], []\n",
    "    for i in range(len(data)-look_back-1):\n",
    "        a = data[i:(i+look_back), 0]\n",
    "        dataX.append(a)\n",
    "        dataY.append(data[i+look_back, 0])\n",
    "    return np.array(dataX), np.array(dataY)\n",
    "look_back = 1\n",
    "#The below code provides me training and test data\n",
    "X_train, y_train = get_data(train, look_back)\n",
    "X_test, y_test = get_data(test, look_back)"
   ]
  },
  {
   "cell_type": "code",
   "execution_count": 15,
   "metadata": {
    "id": "wGhMfiwbBPcX"
   },
   "outputs": [],
   "source": [
    "#reshaping training data in order to build the model for LSTMs\n",
    "X_train = X_train.reshape(X_train.shape[0], X_train.shape[1], 1)\n",
    "X_test = X_test.reshape(X_test.shape[0], X_test.shape[1], 1)"
   ]
  },
  {
   "cell_type": "code",
   "execution_count": 25,
   "metadata": {
    "colab": {
     "base_uri": "https://localhost:8080/"
    },
    "id": "vVcM59qN1OAk",
    "outputId": "e1e57b66-30bb-4769-a8fc-10846ba711fe"
   },
   "outputs": [
    {
     "name": "stdout",
     "output_type": "stream",
     "text": [
      "Epoch 1/80\n",
      "4/4 - 0s - loss: 0.0579\n",
      "Epoch 2/80\n",
      "4/4 - 0s - loss: 0.0450\n",
      "Epoch 3/80\n",
      "4/4 - 0s - loss: 0.0350\n",
      "Epoch 4/80\n",
      "4/4 - 0s - loss: 0.0270\n",
      "Epoch 5/80\n",
      "4/4 - 0s - loss: 0.0214\n",
      "Epoch 6/80\n",
      "4/4 - 0s - loss: 0.0168\n",
      "Epoch 7/80\n",
      "4/4 - 0s - loss: 0.0134\n",
      "Epoch 8/80\n",
      "4/4 - 0s - loss: 0.0109\n",
      "Epoch 9/80\n",
      "4/4 - 0s - loss: 0.0093\n",
      "Epoch 10/80\n",
      "4/4 - 0s - loss: 0.0082\n",
      "Epoch 11/80\n",
      "4/4 - 0s - loss: 0.0078\n",
      "Epoch 12/80\n",
      "4/4 - 0s - loss: 0.0075\n",
      "Epoch 13/80\n",
      "4/4 - 0s - loss: 0.0074\n",
      "Epoch 14/80\n",
      "4/4 - 0s - loss: 0.0072\n",
      "Epoch 15/80\n",
      "4/4 - 0s - loss: 0.0070\n",
      "Epoch 16/80\n",
      "4/4 - 0s - loss: 0.0068\n",
      "Epoch 17/80\n",
      "4/4 - 0s - loss: 0.0066\n",
      "Epoch 18/80\n",
      "4/4 - 0s - loss: 0.0065\n",
      "Epoch 19/80\n",
      "4/4 - 0s - loss: 0.0063\n",
      "Epoch 20/80\n",
      "4/4 - 0s - loss: 0.0062\n",
      "Epoch 21/80\n",
      "4/4 - 0s - loss: 0.0060\n",
      "Epoch 22/80\n",
      "4/4 - 0s - loss: 0.0059\n",
      "Epoch 23/80\n",
      "4/4 - 0s - loss: 0.0057\n",
      "Epoch 24/80\n",
      "4/4 - 0s - loss: 0.0056\n",
      "Epoch 25/80\n",
      "4/4 - 0s - loss: 0.0055\n",
      "Epoch 26/80\n",
      "4/4 - 0s - loss: 0.0053\n",
      "Epoch 27/80\n",
      "4/4 - 0s - loss: 0.0052\n",
      "Epoch 28/80\n",
      "4/4 - 0s - loss: 0.0051\n",
      "Epoch 29/80\n",
      "4/4 - 0s - loss: 0.0050\n",
      "Epoch 30/80\n",
      "4/4 - 0s - loss: 0.0048\n",
      "Epoch 31/80\n",
      "4/4 - 0s - loss: 0.0046\n",
      "Epoch 32/80\n",
      "4/4 - 0s - loss: 0.0045\n",
      "Epoch 33/80\n",
      "4/4 - 0s - loss: 0.0044\n",
      "Epoch 34/80\n",
      "4/4 - 0s - loss: 0.0043\n",
      "Epoch 35/80\n",
      "4/4 - 0s - loss: 0.0042\n",
      "Epoch 36/80\n",
      "4/4 - 0s - loss: 0.0040\n",
      "Epoch 37/80\n",
      "4/4 - 0s - loss: 0.0039\n",
      "Epoch 38/80\n",
      "4/4 - 0s - loss: 0.0038\n",
      "Epoch 39/80\n",
      "4/4 - 0s - loss: 0.0037\n",
      "Epoch 40/80\n",
      "4/4 - 0s - loss: 0.0036\n",
      "Epoch 41/80\n",
      "4/4 - 0s - loss: 0.0034\n",
      "Epoch 42/80\n",
      "4/4 - 0s - loss: 0.0034\n",
      "Epoch 43/80\n",
      "4/4 - 0s - loss: 0.0033\n",
      "Epoch 44/80\n",
      "4/4 - 0s - loss: 0.0033\n",
      "Epoch 45/80\n",
      "4/4 - 0s - loss: 0.0032\n",
      "Epoch 46/80\n",
      "4/4 - 0s - loss: 0.0031\n",
      "Epoch 47/80\n",
      "4/4 - 0s - loss: 0.0030\n",
      "Epoch 48/80\n",
      "4/4 - 0s - loss: 0.0029\n",
      "Epoch 49/80\n",
      "4/4 - 0s - loss: 0.0029\n",
      "Epoch 50/80\n",
      "4/4 - 0s - loss: 0.0028\n",
      "Epoch 51/80\n",
      "4/4 - 0s - loss: 0.0028\n",
      "Epoch 52/80\n",
      "4/4 - 0s - loss: 0.0028\n",
      "Epoch 53/80\n",
      "4/4 - 0s - loss: 0.0027\n",
      "Epoch 54/80\n",
      "4/4 - 0s - loss: 0.0027\n",
      "Epoch 55/80\n",
      "4/4 - 0s - loss: 0.0027\n",
      "Epoch 56/80\n",
      "4/4 - 0s - loss: 0.0026\n",
      "Epoch 57/80\n",
      "4/4 - 0s - loss: 0.0026\n",
      "Epoch 58/80\n",
      "4/4 - 0s - loss: 0.0025\n",
      "Epoch 59/80\n",
      "4/4 - 0s - loss: 0.0025\n",
      "Epoch 60/80\n",
      "4/4 - 0s - loss: 0.0025\n",
      "Epoch 61/80\n",
      "4/4 - 0s - loss: 0.0024\n",
      "Epoch 62/80\n",
      "4/4 - 0s - loss: 0.0024\n",
      "Epoch 63/80\n",
      "4/4 - 0s - loss: 0.0024\n",
      "Epoch 64/80\n",
      "4/4 - 0s - loss: 0.0023\n",
      "Epoch 65/80\n",
      "4/4 - 0s - loss: 0.0023\n",
      "Epoch 66/80\n",
      "4/4 - 0s - loss: 0.0023\n",
      "Epoch 67/80\n",
      "4/4 - 0s - loss: 0.0023\n",
      "Epoch 68/80\n",
      "4/4 - 0s - loss: 0.0023\n",
      "Epoch 69/80\n",
      "4/4 - 0s - loss: 0.0022\n",
      "Epoch 70/80\n",
      "4/4 - 0s - loss: 0.0022\n",
      "Epoch 71/80\n",
      "4/4 - 0s - loss: 0.0022\n",
      "Epoch 72/80\n",
      "4/4 - 0s - loss: 0.0022\n",
      "Epoch 73/80\n",
      "4/4 - 0s - loss: 0.0022\n",
      "Epoch 74/80\n",
      "4/4 - 0s - loss: 0.0022\n",
      "Epoch 75/80\n",
      "4/4 - 0s - loss: 0.0022\n",
      "Epoch 76/80\n",
      "4/4 - 0s - loss: 0.0022\n",
      "Epoch 77/80\n",
      "4/4 - 0s - loss: 0.0022\n",
      "Epoch 78/80\n",
      "4/4 - 0s - loss: 0.0021\n",
      "Epoch 79/80\n",
      "4/4 - 0s - loss: 0.0021\n",
      "Epoch 80/80\n",
      "4/4 - 0s - loss: 0.0021\n"
     ]
    },
    {
     "data": {
      "text/plain": [
       "<tensorflow.python.keras.callbacks.History at 0x7fa0a10fc748>"
      ]
     },
     "execution_count": 25,
     "metadata": {
      "tags": []
     },
     "output_type": "execute_result"
    }
   ],
   "source": [
    "# define model\n",
    "model1 = keras.Sequential()\n",
    "model1.add(Dense(100,activation='relu',input_shape = (1,look_back)))\n",
    "model1.add(Dense(1))\n",
    "model1.compile(loss='mean_squared_error', optimizer='adam')\n",
    "model1.fit(X_train, y_train, epochs=80, batch_size=32, verbose=2)"
   ]
  },
  {
   "cell_type": "code",
   "execution_count": 26,
   "metadata": {
    "colab": {
     "base_uri": "https://localhost:8080/"
    },
    "id": "SNYBFBQdBoOV",
    "outputId": "b4381d44-cdf7-46ce-a4cd-fa5e145dbf17"
   },
   "outputs": [
    {
     "name": "stdout",
     "output_type": "stream",
     "text": [
      "Train Score: 0.00 MSE (0.05 RMSE)\n",
      "Test Score: 0.01 MSE (0.10 RMSE)\n"
     ]
    }
   ],
   "source": [
    "trainScore = model1.evaluate(X_train, y_train, verbose=0)\n",
    "print('Train Score: %.2f MSE (%.2f RMSE)' % (trainScore, math.sqrt(trainScore)))\n",
    "testScore = model1.evaluate(X_test, y_test, verbose=0)\n",
    "print('Test Score: %.2f MSE (%.2f RMSE)' % (testScore, math.sqrt(testScore)))"
   ]
  },
  {
   "cell_type": "code",
   "execution_count": 27,
   "metadata": {
    "colab": {
     "base_uri": "https://localhost:8080/",
     "height": 320
    },
    "id": "5bSJv5JHB1zV",
    "outputId": "e1900913-d2e4-43f7-9708-94162a0c63ef"
   },
   "outputs": [
    {
     "data": {
      "image/png": "[encoded data removed]",
      "text/plain": [
       "<Figure size 1008x360 with 1 Axes>"
      ]
     },
     "metadata": {
      "needs_background": "light",
      "tags": []
     },
     "output_type": "display_data"
    }
   ],
   "source": [
    "y_pred = model1.predict(X_test)\n",
    "y_pred1=y_pred.reshape(-1,1)\n",
    "#inverse transform because I wanted to plot actual values and not the normalized ones\n",
    "y_pred1 = scaler.inverse_transform(y_pred1)\n",
    "y_test1=y_test.reshape(-1,1)\n",
    "y_test1 = scaler.inverse_transform(y_test1)\n",
    "# plot baseline and predictions\n",
    "plt.figure(figsize=(14,5))\n",
    "plt.plot(y_test1, label = 'Real number of passengers')\n",
    "plt.plot(y_pred1, label = 'Predicted number of passengers')\n",
    "plt.ylabel('# passengers')\n",
    "plt.legend()\n",
    "plt.show()"
   ]
  },
  {
   "cell_type": "markdown",
   "metadata": {
    "id": "EfsMrr1cGj1M"
   },
   "source": [
    "# Convolutional Neural Networks"
   ]
  },
  {
   "cell_type": "code",
   "execution_count": 28,
   "metadata": {
    "colab": {
     "base_uri": "https://localhost:8080/"
    },
    "id": "ZiaidDQQGxlG",
    "outputId": "7c761661-873b-43a8-cedc-6e1c508a3a9d"
   },
   "outputs": [
    {
     "name": "stdout",
     "output_type": "stream",
     "text": [
      "Epoch 1/40\n",
      "4/4 [==============================] - 0s 3ms/step - loss: 0.0492\n",
      "Epoch 2/40\n",
      "4/4 [==============================] - 0s 2ms/step - loss: 0.0379\n",
      "Epoch 3/40\n",
      "4/4 [==============================] - 0s 2ms/step - loss: 0.0308\n",
      "Epoch 4/40\n",
      "4/4 [==============================] - 0s 2ms/step - loss: 0.0235\n",
      "Epoch 5/40\n",
      "4/4 [==============================] - 0s 2ms/step - loss: 0.0151\n",
      "Epoch 6/40\n",
      "4/4 [==============================] - 0s 2ms/step - loss: 0.0112\n",
      "Epoch 7/40\n",
      "4/4 [==============================] - 0s 2ms/step - loss: 0.0103\n",
      "Epoch 8/40\n",
      "4/4 [==============================] - 0s 3ms/step - loss: 0.0098\n",
      "Epoch 9/40\n",
      "4/4 [==============================] - 0s 2ms/step - loss: 0.0068\n",
      "Epoch 10/40\n",
      "4/4 [==============================] - 0s 2ms/step - loss: 0.0073\n",
      "Epoch 11/40\n",
      "4/4 [==============================] - 0s 2ms/step - loss: 0.0066\n",
      "Epoch 12/40\n",
      "4/4 [==============================] - 0s 2ms/step - loss: 0.0068\n",
      "Epoch 13/40\n",
      "4/4 [==============================] - 0s 3ms/step - loss: 0.0068\n",
      "Epoch 14/40\n",
      "4/4 [==============================] - 0s 2ms/step - loss: 0.0058\n",
      "Epoch 15/40\n",
      "4/4 [==============================] - 0s 2ms/step - loss: 0.0058\n",
      "Epoch 16/40\n",
      "4/4 [==============================] - 0s 2ms/step - loss: 0.0051\n",
      "Epoch 17/40\n",
      "4/4 [==============================] - 0s 3ms/step - loss: 0.0049\n",
      "Epoch 18/40\n",
      "4/4 [==============================] - 0s 2ms/step - loss: 0.0050\n",
      "Epoch 19/40\n",
      "4/4 [==============================] - 0s 3ms/step - loss: 0.0048\n",
      "Epoch 20/40\n",
      "4/4 [==============================] - 0s 3ms/step - loss: 0.0046\n",
      "Epoch 21/40\n",
      "4/4 [==============================] - 0s 2ms/step - loss: 0.0042\n",
      "Epoch 22/40\n",
      "4/4 [==============================] - 0s 5ms/step - loss: 0.0041\n",
      "Epoch 23/40\n",
      "4/4 [==============================] - 0s 3ms/step - loss: 0.0040\n",
      "Epoch 24/40\n",
      "4/4 [==============================] - 0s 3ms/step - loss: 0.0036\n",
      "Epoch 25/40\n",
      "4/4 [==============================] - 0s 3ms/step - loss: 0.0039\n",
      "Epoch 26/40\n",
      "4/4 [==============================] - 0s 3ms/step - loss: 0.0032\n",
      "Epoch 27/40\n",
      "4/4 [==============================] - 0s 3ms/step - loss: 0.0032\n",
      "Epoch 28/40\n",
      "4/4 [==============================] - 0s 2ms/step - loss: 0.0030\n",
      "Epoch 29/40\n",
      "4/4 [==============================] - 0s 2ms/step - loss: 0.0028\n",
      "Epoch 30/40\n",
      "4/4 [==============================] - 0s 2ms/step - loss: 0.0030\n",
      "Epoch 31/40\n",
      "4/4 [==============================] - 0s 2ms/step - loss: 0.0028\n",
      "Epoch 32/40\n",
      "4/4 [==============================] - 0s 2ms/step - loss: 0.0027\n",
      "Epoch 33/40\n",
      "4/4 [==============================] - 0s 3ms/step - loss: 0.0026\n",
      "Epoch 34/40\n",
      "4/4 [==============================] - 0s 3ms/step - loss: 0.0023\n",
      "Epoch 35/40\n",
      "4/4 [==============================] - 0s 3ms/step - loss: 0.0023\n",
      "Epoch 36/40\n",
      "4/4 [==============================] - 0s 2ms/step - loss: 0.0023\n",
      "Epoch 37/40\n",
      "4/4 [==============================] - 0s 2ms/step - loss: 0.0021\n",
      "Epoch 38/40\n",
      "4/4 [==============================] - 0s 2ms/step - loss: 0.0020\n",
      "Epoch 39/40\n",
      "4/4 [==============================] - 0s 2ms/step - loss: 0.0021\n",
      "Epoch 40/40\n",
      "4/4 [==============================] - 0s 2ms/step - loss: 0.0021\n"
     ]
    },
    {
     "data": {
      "text/plain": [
       "<tensorflow.python.keras.callbacks.History at 0x7fa09ffab358>"
      ]
     },
     "execution_count": 28,
     "metadata": {
      "tags": []
     },
     "output_type": "execute_result"
    }
   ],
   "source": [
    "# define model\n",
    "model2 = Sequential()\n",
    "model2.add(Conv1D(filters=10, kernel_size=1, activation='relu', input_shape=(1,look_back)))\n",
    "model2.add(Flatten())\n",
    "model2.add(Dense(50, activation='relu'))\n",
    "model2.add(Dense(1))\n",
    "model2.compile(optimizer='adam', loss='mse')\n",
    "# fit model\n",
    "model2.fit(X_train, y_train,batch_size=32 ,epochs=40, verbose=1)"
   ]
  },
  {
   "cell_type": "code",
   "execution_count": 29,
   "metadata": {
    "colab": {
     "base_uri": "https://localhost:8080/"
    },
    "id": "xQxdowzmFYZN",
    "outputId": "8802ee85-da1a-42ed-9912-6f6dd833c595"
   },
   "outputs": [
    {
     "name": "stdout",
     "output_type": "stream",
     "text": [
      "Train Score: 0.00 MSE (0.05 RMSE)\n",
      "Test Score: 0.01 MSE (0.11 RMSE)\n"
     ]
    }
   ],
   "source": [
    "trainScore = model2.evaluate(X_train, y_train, verbose=0)\n",
    "print('Train Score: %.2f MSE (%.2f RMSE)' % (trainScore, math.sqrt(trainScore)))\n",
    "testScore = model2.evaluate(X_test, y_test, verbose=0)\n",
    "print('Test Score: %.2f MSE (%.2f RMSE)' % (testScore, math.sqrt(testScore)))"
   ]
  },
  {
   "cell_type": "code",
   "execution_count": 30,
   "metadata": {
    "colab": {
     "base_uri": "https://localhost:8080/",
     "height": 357
    },
    "id": "0S_mXfOVGxe5",
    "outputId": "e340a843-93e9-472f-8ad8-fba187bc3e06"
   },
   "outputs": [
    {
     "name": "stdout",
     "output_type": "stream",
     "text": [
      "WARNING:tensorflow:5 out of the last 9 calls to <function Model.make_predict_function.<locals>.predict_function at 0x7fa09e5ec268> triggered tf.function retracing. Tracing is expensive and the excessive number of tracings could be due to (1) creating @tf.function repeatedly in a loop, (2) passing tensors with different shapes, (3) passing Python objects instead of tensors. For (1), please define your @tf.function outside of the loop. For (2), @tf.function has experimental_relax_shapes=True option that relaxes argument shapes that can avoid unnecessary retracing. For (3), please refer to https://www.tensorflow.org/guide/function#controlling_retracing and https://www.tensorflow.org/api_docs/python/tf/function for  more details.\n"
     ]
    },
    {
     "data": {
      "image/png": "[encoded data removed]",
      "text/plain": [
       "<Figure size 1008x360 with 1 Axes>"
      ]
     },
     "metadata": {
      "needs_background": "light",
      "tags": []
     },
     "output_type": "display_data"
    }
   ],
   "source": [
    "y_pred = model2.predict(X_test)\n",
    "y_pred2=y_pred.reshape(-1,1)\n",
    "y_pred2 = scaler.inverse_transform(y_pred2)\n",
    "y_test2=y_test.reshape(-1,1)\n",
    "y_test2 = scaler.inverse_transform(y_test2)\n",
    "# plot baseline and predictions\n",
    "plt.figure(figsize=(14,5))\n",
    "plt.plot(y_test2, label = 'Real number of passengers')\n",
    "plt.plot(y_pred2, label = 'Predicted number of passengers')\n",
    "plt.ylabel('# passengers')\n",
    "plt.legend()\n",
    "plt.show()"
   ]
  },
  {
   "cell_type": "markdown",
   "metadata": {
    "id": "Qj55L61nKqQ6"
   },
   "source": [
    "# LSTMs"
   ]
  },
  {
   "cell_type": "code",
   "execution_count": 31,
   "metadata": {
    "colab": {
     "base_uri": "https://localhost:8080/"
    },
    "id": "AEADcgJWe7Ay",
    "outputId": "d91ce0f7-c4b3-40f7-e683-ab98b75d68db"
   },
   "outputs": [
    {
     "name": "stdout",
     "output_type": "stream",
     "text": [
      "Epoch 1/80\n",
      "4/4 [==============================] - 1s 3ms/step - loss: 0.0721\n",
      "Epoch 2/80\n",
      "4/4 [==============================] - 0s 3ms/step - loss: 0.0617\n",
      "Epoch 3/80\n",
      "4/4 [==============================] - 0s 3ms/step - loss: 0.0580\n",
      "Epoch 4/80\n",
      "4/4 [==============================] - 0s 3ms/step - loss: 0.0516\n",
      "Epoch 5/80\n",
      "4/4 [==============================] - 0s 3ms/step - loss: 0.0429\n",
      "Epoch 6/80\n",
      "4/4 [==============================] - 0s 3ms/step - loss: 0.0364\n",
      "Epoch 7/80\n",
      "4/4 [==============================] - 0s 3ms/step - loss: 0.0300\n",
      "Epoch 8/80\n",
      "4/4 [==============================] - 0s 3ms/step - loss: 0.0327\n",
      "Epoch 9/80\n",
      "4/4 [==============================] - 0s 3ms/step - loss: 0.0221\n",
      "Epoch 10/80\n",
      "4/4 [==============================] - 0s 3ms/step - loss: 0.0189\n",
      "Epoch 11/80\n",
      "4/4 [==============================] - 0s 4ms/step - loss: 0.0190\n",
      "Epoch 12/80\n",
      "4/4 [==============================] - 0s 3ms/step - loss: 0.0160\n",
      "Epoch 13/80\n",
      "4/4 [==============================] - 0s 3ms/step - loss: 0.0148\n",
      "Epoch 14/80\n",
      "4/4 [==============================] - 0s 3ms/step - loss: 0.0144\n",
      "Epoch 15/80\n",
      "4/4 [==============================] - 0s 3ms/step - loss: 0.0153\n",
      "Epoch 16/80\n",
      "4/4 [==============================] - 0s 4ms/step - loss: 0.0157\n",
      "Epoch 17/80\n",
      "4/4 [==============================] - 0s 3ms/step - loss: 0.0151\n",
      "Epoch 18/80\n",
      "4/4 [==============================] - 0s 3ms/step - loss: 0.0147\n",
      "Epoch 19/80\n",
      "4/4 [==============================] - 0s 3ms/step - loss: 0.0139\n",
      "Epoch 20/80\n",
      "4/4 [==============================] - 0s 4ms/step - loss: 0.0142\n",
      "Epoch 21/80\n",
      "4/4 [==============================] - 0s 4ms/step - loss: 0.0124\n",
      "Epoch 22/80\n",
      "4/4 [==============================] - 0s 4ms/step - loss: 0.0141\n",
      "Epoch 23/80\n",
      "4/4 [==============================] - 0s 3ms/step - loss: 0.0135\n",
      "Epoch 24/80\n",
      "4/4 [==============================] - 0s 3ms/step - loss: 0.0146\n",
      "Epoch 25/80\n",
      "4/4 [==============================] - 0s 3ms/step - loss: 0.0121\n",
      "Epoch 26/80\n",
      "4/4 [==============================] - 0s 3ms/step - loss: 0.0132\n",
      "Epoch 27/80\n",
      "4/4 [==============================] - 0s 3ms/step - loss: 0.0126\n",
      "Epoch 28/80\n",
      "4/4 [==============================] - 0s 3ms/step - loss: 0.0126\n",
      "Epoch 29/80\n",
      "4/4 [==============================] - 0s 4ms/step - loss: 0.0104\n",
      "Epoch 30/80\n",
      "4/4 [==============================] - 0s 4ms/step - loss: 0.0113\n",
      "Epoch 31/80\n",
      "4/4 [==============================] - 0s 3ms/step - loss: 0.0114\n",
      "Epoch 32/80\n",
      "4/4 [==============================] - 0s 3ms/step - loss: 0.0119\n",
      "Epoch 33/80\n",
      "4/4 [==============================] - 0s 3ms/step - loss: 0.0110\n",
      "Epoch 34/80\n",
      "4/4 [==============================] - 0s 3ms/step - loss: 0.0104\n",
      "Epoch 35/80\n",
      "4/4 [==============================] - 0s 3ms/step - loss: 0.0116\n",
      "Epoch 36/80\n",
      "4/4 [==============================] - 0s 3ms/step - loss: 0.0101\n",
      "Epoch 37/80\n",
      "4/4 [==============================] - 0s 3ms/step - loss: 0.0104\n",
      "Epoch 38/80\n",
      "4/4 [==============================] - 0s 3ms/step - loss: 0.0110\n",
      "Epoch 39/80\n",
      "4/4 [==============================] - 0s 3ms/step - loss: 0.0104\n",
      "Epoch 40/80\n",
      "4/4 [==============================] - 0s 3ms/step - loss: 0.0105\n",
      "Epoch 41/80\n",
      "4/4 [==============================] - 0s 3ms/step - loss: 0.0094\n",
      "Epoch 42/80\n",
      "4/4 [==============================] - 0s 3ms/step - loss: 0.0097\n",
      "Epoch 43/80\n",
      "4/4 [==============================] - 0s 3ms/step - loss: 0.0082\n",
      "Epoch 44/80\n",
      "4/4 [==============================] - 0s 3ms/step - loss: 0.0081\n",
      "Epoch 45/80\n",
      "4/4 [==============================] - 0s 3ms/step - loss: 0.0083\n",
      "Epoch 46/80\n",
      "4/4 [==============================] - 0s 3ms/step - loss: 0.0083\n",
      "Epoch 47/80\n",
      "4/4 [==============================] - 0s 3ms/step - loss: 0.0081\n",
      "Epoch 48/80\n",
      "4/4 [==============================] - 0s 3ms/step - loss: 0.0077\n",
      "Epoch 49/80\n",
      "4/4 [==============================] - 0s 2ms/step - loss: 0.0072\n",
      "Epoch 50/80\n",
      "4/4 [==============================] - 0s 4ms/step - loss: 0.0065\n",
      "Epoch 51/80\n",
      "4/4 [==============================] - 0s 3ms/step - loss: 0.0067\n",
      "Epoch 52/80\n",
      "4/4 [==============================] - 0s 3ms/step - loss: 0.0065\n",
      "Epoch 53/80\n",
      "4/4 [==============================] - 0s 3ms/step - loss: 0.0058\n",
      "Epoch 54/80\n",
      "4/4 [==============================] - 0s 4ms/step - loss: 0.0062\n",
      "Epoch 55/80\n",
      "4/4 [==============================] - 0s 3ms/step - loss: 0.0053\n",
      "Epoch 56/80\n",
      "4/4 [==============================] - 0s 3ms/step - loss: 0.0056\n",
      "Epoch 57/80\n",
      "4/4 [==============================] - 0s 3ms/step - loss: 0.0052\n",
      "Epoch 58/80\n",
      "4/4 [==============================] - 0s 3ms/step - loss: 0.0048\n",
      "Epoch 59/80\n",
      "4/4 [==============================] - 0s 3ms/step - loss: 0.0046\n",
      "Epoch 60/80\n",
      "4/4 [==============================] - 0s 2ms/step - loss: 0.0044\n",
      "Epoch 61/80\n",
      "4/4 [==============================] - 0s 3ms/step - loss: 0.0043\n",
      "Epoch 62/80\n",
      "4/4 [==============================] - 0s 3ms/step - loss: 0.0041\n",
      "Epoch 63/80\n",
      "4/4 [==============================] - 0s 3ms/step - loss: 0.0037\n",
      "Epoch 64/80\n",
      "4/4 [==============================] - 0s 4ms/step - loss: 0.0036\n",
      "Epoch 65/80\n",
      "4/4 [==============================] - 0s 3ms/step - loss: 0.0035\n",
      "Epoch 66/80\n",
      "4/4 [==============================] - 0s 3ms/step - loss: 0.0035\n",
      "Epoch 67/80\n",
      "4/4 [==============================] - 0s 3ms/step - loss: 0.0033\n",
      "Epoch 68/80\n",
      "4/4 [==============================] - 0s 4ms/step - loss: 0.0033\n",
      "Epoch 69/80\n",
      "4/4 [==============================] - 0s 3ms/step - loss: 0.0030\n",
      "Epoch 70/80\n",
      "4/4 [==============================] - 0s 2ms/step - loss: 0.0030\n",
      "Epoch 71/80\n",
      "4/4 [==============================] - 0s 4ms/step - loss: 0.0026\n",
      "Epoch 72/80\n",
      "4/4 [==============================] - 0s 3ms/step - loss: 0.0026\n",
      "Epoch 73/80\n",
      "4/4 [==============================] - 0s 3ms/step - loss: 0.0027\n",
      "Epoch 74/80\n",
      "4/4 [==============================] - 0s 4ms/step - loss: 0.0026\n",
      "Epoch 75/80\n",
      "4/4 [==============================] - 0s 3ms/step - loss: 0.0026\n",
      "Epoch 76/80\n",
      "4/4 [==============================] - 0s 3ms/step - loss: 0.0023\n",
      "Epoch 77/80\n",
      "4/4 [==============================] - 0s 3ms/step - loss: 0.0023\n",
      "Epoch 78/80\n",
      "4/4 [==============================] - 0s 3ms/step - loss: 0.0022\n",
      "Epoch 79/80\n",
      "4/4 [==============================] - 0s 3ms/step - loss: 0.0022\n",
      "Epoch 80/80\n",
      "4/4 [==============================] - 0s 3ms/step - loss: 0.0025\n"
     ]
    },
    {
     "data": {
      "text/plain": [
       "<tensorflow.python.keras.callbacks.History at 0x7fa09dd3c6a0>"
      ]
     },
     "execution_count": 31,
     "metadata": {
      "tags": []
     },
     "output_type": "execute_result"
    }
   ],
   "source": [
    "# define model\n",
    "from keras.layers import LSTM\n",
    "model3 = Sequential()\n",
    "model3.add(LSTM(40, activation='relu', input_shape=(1,look_back)))\n",
    "model3.add(Dense(50, activation='relu'))\n",
    "model3.add(Dense(1))\n",
    "model3.compile(optimizer='Adam', loss='mse')\n",
    "# fit model\n",
    "model3.fit(X_train, y_train,batch_size=32, epochs=80, verbose=1)\n",
    "# Estimate model performance and plots"
   ]
  },
  {
   "cell_type": "code",
   "execution_count": 32,
   "metadata": {
    "colab": {
     "base_uri": "https://localhost:8080/"
    },
    "id": "pUeyiD1mHQvd",
    "outputId": "cb9e1d25-a6b8-4759-db60-d0ba227e9659"
   },
   "outputs": [
    {
     "name": "stdout",
     "output_type": "stream",
     "text": [
      "Train Score: 0.00 MSE (0.05 RMSE)\n",
      "Test Score: 0.01 MSE (0.10 RMSE)\n"
     ]
    }
   ],
   "source": [
    "trainScore = model3.evaluate(X_train, y_train, verbose=0)\n",
    "print('Train Score: %.2f MSE (%.2f RMSE)' % (trainScore, math.sqrt(trainScore)))\n",
    "testScore = model3.evaluate(X_test, y_test, verbose=0)\n",
    "print('Test Score: %.2f MSE (%.2f RMSE)' % (testScore, math.sqrt(testScore)))"
   ]
  },
  {
   "cell_type": "code",
   "execution_count": 33,
   "metadata": {
    "colab": {
     "base_uri": "https://localhost:8080/",
     "height": 357
    },
    "id": "GpKIndwppc-g",
    "outputId": "981fe49a-bf9d-4ad2-e82c-c34c76612de5"
   },
   "outputs": [
    {
     "name": "stdout",
     "output_type": "stream",
     "text": [
      "WARNING:tensorflow:6 out of the last 11 calls to <function Model.make_predict_function.<locals>.predict_function at 0x7fa09d22eb70> triggered tf.function retracing. Tracing is expensive and the excessive number of tracings could be due to (1) creating @tf.function repeatedly in a loop, (2) passing tensors with different shapes, (3) passing Python objects instead of tensors. For (1), please define your @tf.function outside of the loop. For (2), @tf.function has experimental_relax_shapes=True option that relaxes argument shapes that can avoid unnecessary retracing. For (3), please refer to https://www.tensorflow.org/guide/function#controlling_retracing and https://www.tensorflow.org/api_docs/python/tf/function for  more details.\n"
     ]
    },
    {
     "data": {
      "image/png": "[encoded data removed]",
      "text/plain": [
       "<Figure size 1008x360 with 1 Axes>"
      ]
     },
     "metadata": {
      "needs_background": "light",
      "tags": []
     },
     "output_type": "display_data"
    }
   ],
   "source": [
    "y_pred = model3.predict(X_test)\n",
    "y_pred3= y_pred.reshape(-1,1)\n",
    "y_pred3 = scaler.inverse_transform(y_pred3)\n",
    "y_test3=y_test.reshape(-1,1)\n",
    "y_test3 = scaler.inverse_transform(y_test3)\n",
    "# plot baseline and predictions\n",
    "plt.figure(figsize=(14,5))\n",
    "plt.plot(y_test3, label = 'Real number of passengers')\n",
    "plt.plot(y_pred3, label = 'Predicted number of passengers')\n",
    "plt.ylabel('# passengers')\n",
    "plt.legend()\n",
    "plt.show()"
   ]
  },
  {
   "cell_type": "markdown",
   "metadata": {
    "id": "ugbNQbBBKAdt"
   },
   "source": [
    "### LSTM gave the best predictions."
   ]
  }
 ],
 "metadata": {
  "colab": {
   "collapsed_sections": [],
   "name": "Best Time series DL.ipynb",
   "provenance": [],
   "toc_visible": true
  },
  "kernelspec": {
   "display_name": "Python 3",
   "language": "python",
   "name": "python3"
  },
  "language_info": {
   "codemirror_mode": {
    "name": "ipython",
    "version": 3
   },
   "file_extension": ".py",
   "mimetype": "text/x-python",
   "name": "python",
   "nbconvert_exporter": "python",
   "pygments_lexer": "ipython3",
   "version": "3.7.4"
  }
 },
 "nbformat": 4,
 "nbformat_minor": 1
}
